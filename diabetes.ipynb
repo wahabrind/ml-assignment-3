{
 "cells": [
  {
   "cell_type": "code",
   "execution_count": 1,
   "metadata": {},
   "outputs": [],
   "source": [
    "from utils import DataLoader\n",
    "# Simple Models\n",
    "from sklearn.linear_model import LogisticRegression\n",
    "from sklearn.neighbors import KNeighborsClassifier\n",
    "from sklearn.tree import DecisionTreeClassifier\n",
    "\n",
    "# Ensemble Model\n",
    "from sklearn.ensemble import RandomForestClassifier\n",
    "import pandas as pd\n",
    "import warnings\n",
    "warnings.filterwarnings('ignore')"
   ]
  },
  {
   "cell_type": "code",
   "execution_count": 2,
   "metadata": {},
   "outputs": [
    {
     "name": "stdout",
     "output_type": "stream",
     "text": [
      "number of duplicate rows:  (3854, 9)\n",
      "Other gender: 0.018721527676658415%\n"
     ]
    },
    {
     "data": {
      "text/html": [
       "<div>\n",
       "<style scoped>\n",
       "    .dataframe tbody tr th:only-of-type {\n",
       "        vertical-align: middle;\n",
       "    }\n",
       "\n",
       "    .dataframe tbody tr th {\n",
       "        vertical-align: top;\n",
       "    }\n",
       "\n",
       "    .dataframe thead th {\n",
       "        text-align: right;\n",
       "    }\n",
       "</style>\n",
       "<table border=\"1\" class=\"dataframe\">\n",
       "  <thead>\n",
       "    <tr style=\"text-align: right;\">\n",
       "      <th></th>\n",
       "      <th>gender</th>\n",
       "      <th>age</th>\n",
       "      <th>hypertension</th>\n",
       "      <th>heart_disease</th>\n",
       "      <th>smoking_history</th>\n",
       "      <th>bmi</th>\n",
       "      <th>HbA1c_level</th>\n",
       "      <th>blood_glucose_level</th>\n",
       "      <th>diabetes</th>\n",
       "    </tr>\n",
       "  </thead>\n",
       "  <tbody>\n",
       "    <tr>\n",
       "      <th>0</th>\n",
       "      <td>Female</td>\n",
       "      <td>80.0</td>\n",
       "      <td>0</td>\n",
       "      <td>1</td>\n",
       "      <td>non-smoker</td>\n",
       "      <td>25.19</td>\n",
       "      <td>6.6</td>\n",
       "      <td>140</td>\n",
       "      <td>0</td>\n",
       "    </tr>\n",
       "    <tr>\n",
       "      <th>1</th>\n",
       "      <td>Female</td>\n",
       "      <td>54.0</td>\n",
       "      <td>0</td>\n",
       "      <td>0</td>\n",
       "      <td>non-smoker</td>\n",
       "      <td>27.32</td>\n",
       "      <td>6.6</td>\n",
       "      <td>80</td>\n",
       "      <td>0</td>\n",
       "    </tr>\n",
       "    <tr>\n",
       "      <th>2</th>\n",
       "      <td>Male</td>\n",
       "      <td>28.0</td>\n",
       "      <td>0</td>\n",
       "      <td>0</td>\n",
       "      <td>non-smoker</td>\n",
       "      <td>27.32</td>\n",
       "      <td>5.7</td>\n",
       "      <td>158</td>\n",
       "      <td>0</td>\n",
       "    </tr>\n",
       "    <tr>\n",
       "      <th>3</th>\n",
       "      <td>Female</td>\n",
       "      <td>36.0</td>\n",
       "      <td>0</td>\n",
       "      <td>0</td>\n",
       "      <td>current</td>\n",
       "      <td>23.45</td>\n",
       "      <td>5.0</td>\n",
       "      <td>155</td>\n",
       "      <td>0</td>\n",
       "    </tr>\n",
       "    <tr>\n",
       "      <th>4</th>\n",
       "      <td>Male</td>\n",
       "      <td>76.0</td>\n",
       "      <td>1</td>\n",
       "      <td>1</td>\n",
       "      <td>current</td>\n",
       "      <td>20.14</td>\n",
       "      <td>4.8</td>\n",
       "      <td>155</td>\n",
       "      <td>0</td>\n",
       "    </tr>\n",
       "    <tr>\n",
       "      <th>...</th>\n",
       "      <td>...</td>\n",
       "      <td>...</td>\n",
       "      <td>...</td>\n",
       "      <td>...</td>\n",
       "      <td>...</td>\n",
       "      <td>...</td>\n",
       "      <td>...</td>\n",
       "      <td>...</td>\n",
       "      <td>...</td>\n",
       "    </tr>\n",
       "    <tr>\n",
       "      <th>99994</th>\n",
       "      <td>Female</td>\n",
       "      <td>36.0</td>\n",
       "      <td>0</td>\n",
       "      <td>0</td>\n",
       "      <td>non-smoker</td>\n",
       "      <td>24.60</td>\n",
       "      <td>4.8</td>\n",
       "      <td>145</td>\n",
       "      <td>0</td>\n",
       "    </tr>\n",
       "    <tr>\n",
       "      <th>99996</th>\n",
       "      <td>Female</td>\n",
       "      <td>2.0</td>\n",
       "      <td>0</td>\n",
       "      <td>0</td>\n",
       "      <td>non-smoker</td>\n",
       "      <td>17.37</td>\n",
       "      <td>6.5</td>\n",
       "      <td>100</td>\n",
       "      <td>0</td>\n",
       "    </tr>\n",
       "    <tr>\n",
       "      <th>99997</th>\n",
       "      <td>Male</td>\n",
       "      <td>66.0</td>\n",
       "      <td>0</td>\n",
       "      <td>0</td>\n",
       "      <td>past_smoker</td>\n",
       "      <td>27.83</td>\n",
       "      <td>5.7</td>\n",
       "      <td>155</td>\n",
       "      <td>0</td>\n",
       "    </tr>\n",
       "    <tr>\n",
       "      <th>99998</th>\n",
       "      <td>Female</td>\n",
       "      <td>24.0</td>\n",
       "      <td>0</td>\n",
       "      <td>0</td>\n",
       "      <td>non-smoker</td>\n",
       "      <td>35.42</td>\n",
       "      <td>4.0</td>\n",
       "      <td>100</td>\n",
       "      <td>0</td>\n",
       "    </tr>\n",
       "    <tr>\n",
       "      <th>99999</th>\n",
       "      <td>Female</td>\n",
       "      <td>57.0</td>\n",
       "      <td>0</td>\n",
       "      <td>0</td>\n",
       "      <td>current</td>\n",
       "      <td>22.43</td>\n",
       "      <td>6.6</td>\n",
       "      <td>90</td>\n",
       "      <td>0</td>\n",
       "    </tr>\n",
       "  </tbody>\n",
       "</table>\n",
       "<p>96128 rows × 9 columns</p>\n",
       "</div>"
      ],
      "text/plain": [
       "       gender   age  hypertension  heart_disease smoking_history    bmi  \\\n",
       "0      Female  80.0             0              1      non-smoker  25.19   \n",
       "1      Female  54.0             0              0      non-smoker  27.32   \n",
       "2        Male  28.0             0              0      non-smoker  27.32   \n",
       "3      Female  36.0             0              0         current  23.45   \n",
       "4        Male  76.0             1              1         current  20.14   \n",
       "...       ...   ...           ...            ...             ...    ...   \n",
       "99994  Female  36.0             0              0      non-smoker  24.60   \n",
       "99996  Female   2.0             0              0      non-smoker  17.37   \n",
       "99997    Male  66.0             0              0     past_smoker  27.83   \n",
       "99998  Female  24.0             0              0      non-smoker  35.42   \n",
       "99999  Female  57.0             0              0         current  22.43   \n",
       "\n",
       "       HbA1c_level  blood_glucose_level  diabetes  \n",
       "0              6.6                  140         0  \n",
       "1              6.6                   80         0  \n",
       "2              5.7                  158         0  \n",
       "3              5.0                  155         0  \n",
       "4              4.8                  155         0  \n",
       "...            ...                  ...       ...  \n",
       "99994          4.8                  145         0  \n",
       "99996          6.5                  100         0  \n",
       "99997          5.7                  155         0  \n",
       "99998          4.0                  100         0  \n",
       "99999          6.6                   90         0  \n",
       "\n",
       "[96128 rows x 9 columns]"
      ]
     },
     "execution_count": 2,
     "metadata": {},
     "output_type": "execute_result"
    }
   ],
   "source": [
    "# %% Load and prepare data\n",
    "data_loader = DataLoader()\n",
    "data_loader.load_dataset()\n",
    "df,X,y = data_loader.prepare_data()\n",
    "data_loader.save_preprocessor()\n",
    "df"
   ]
  },
  {
   "attachments": {},
   "cell_type": "markdown",
   "metadata": {},
   "source": [
    "Decision Tree"
   ]
  },
  {
   "cell_type": "code",
   "execution_count": 3,
   "metadata": {},
   "outputs": [
    {
     "name": "stdout",
     "output_type": "stream",
     "text": [
      "Model ROC Area Under Curve:  0.8638725434559308\n",
      "Model Accuracy:  0.9042442525746385\n"
     ]
    }
   ],
   "source": [
    "dt_pipeline = data_loader.create_model_pipeline(\n",
    "    model=DecisionTreeClassifier, model_params={}\n",
    ")\n",
    "data_loader.fit_model_pipeline(dt_pipeline)\n",
    "data_loader.evaluate_model_pipeline(dt_pipeline)"
   ]
  },
  {
   "attachments": {},
   "cell_type": "markdown",
   "metadata": {},
   "source": [
    "KNN"
   ]
  },
  {
   "cell_type": "code",
   "execution_count": 4,
   "metadata": {},
   "outputs": [
    {
     "name": "stdout",
     "output_type": "stream",
     "text": [
      "Model ROC Area Under Curve:  0.9457113977103626\n",
      "Model Accuracy:  0.9169353999791948\n"
     ]
    }
   ],
   "source": [
    "knn_pipeline = data_loader.create_model_pipeline(\n",
    "    model=KNeighborsClassifier, model_params={}\n",
    ")\n",
    "data_loader.fit_model_pipeline(knn_pipeline)\n",
    "data_loader.evaluate_model_pipeline(knn_pipeline)"
   ]
  },
  {
   "attachments": {},
   "cell_type": "markdown",
   "metadata": {},
   "source": [
    "Logistic Regression"
   ]
  },
  {
   "cell_type": "code",
   "execution_count": 5,
   "metadata": {},
   "outputs": [
    {
     "name": "stdout",
     "output_type": "stream",
     "text": [
      "Model ROC Area Under Curve:  0.9596175401583604\n",
      "Model Accuracy:  0.9254655154478311\n"
     ]
    }
   ],
   "source": [
    "lgr_pipeline = data_loader.create_model_pipeline(\n",
    "    model=LogisticRegression, model_params={}\n",
    ")\n",
    "data_loader.fit_model_pipeline(lgr_pipeline)\n",
    "data_loader.evaluate_model_pipeline(lgr_pipeline)"
   ]
  },
  {
   "attachments": {},
   "cell_type": "markdown",
   "metadata": {},
   "source": [
    "Ensemble: Random Forest"
   ]
  },
  {
   "cell_type": "code",
   "execution_count": 6,
   "metadata": {},
   "outputs": [],
   "source": [
    "rf_params = {\n",
    "    'n_estimators': 50,\n",
    "    'max_depth': 10,\n",
    "    'min_samples_split': 2,\n",
    "    'min_samples_leaf': 2\n",
    "}\n",
    "rf_pipeline = data_loader.create_model_pipeline(model=RandomForestClassifier, model_params=rf_params)"
   ]
  },
  {
   "cell_type": "code",
   "execution_count": 7,
   "metadata": {},
   "outputs": [
    {
     "name": "stdout",
     "output_type": "stream",
     "text": [
      "Model ROC Area Under Curve:  0.973731194458326\n",
      "Model Accuracy:  0.9461146364298346\n"
     ]
    }
   ],
   "source": [
    "data_loader.fit_model_pipeline(rf_pipeline)\n",
    "data_loader.evaluate_model_pipeline(rf_pipeline)"
   ]
  },
  {
   "attachments": {},
   "cell_type": "markdown",
   "metadata": {},
   "source": [
    "Saving Random Forest for streamlit since it has the highest roc score"
   ]
  },
  {
   "cell_type": "code",
   "execution_count": 8,
   "metadata": {},
   "outputs": [],
   "source": [
    "data_loader.save_model_pipeline('random_forest', rf_pipeline)"
   ]
  },
  {
   "attachments": {},
   "cell_type": "markdown",
   "metadata": {},
   "source": [
    "Explanable AI"
   ]
  },
  {
   "attachments": {},
   "cell_type": "markdown",
   "metadata": {},
   "source": [
    "In this section three sample values will be picked from test split of the data and explanations will be provided on those predictions using LIME and SHAP. Finally CounterFactual will be used to display the changed required for opposite prediction."
   ]
  },
  {
   "cell_type": "code",
   "execution_count": 198,
   "metadata": {},
   "outputs": [
    {
     "data": {
      "text/html": [
       "<div>\n",
       "<style scoped>\n",
       "    .dataframe tbody tr th:only-of-type {\n",
       "        vertical-align: middle;\n",
       "    }\n",
       "\n",
       "    .dataframe tbody tr th {\n",
       "        vertical-align: top;\n",
       "    }\n",
       "\n",
       "    .dataframe thead th {\n",
       "        text-align: right;\n",
       "    }\n",
       "</style>\n",
       "<table border=\"1\" class=\"dataframe\">\n",
       "  <thead>\n",
       "    <tr style=\"text-align: right;\">\n",
       "      <th></th>\n",
       "      <th>age</th>\n",
       "      <th>bmi</th>\n",
       "      <th>HbA1c_level</th>\n",
       "      <th>blood_glucose_level</th>\n",
       "      <th>hypertension</th>\n",
       "      <th>heart_disease</th>\n",
       "      <th>gender_Female</th>\n",
       "      <th>gender_Male</th>\n",
       "      <th>smoking_history_current</th>\n",
       "      <th>smoking_history_non-smoker</th>\n",
       "      <th>smoking_history_past_smoker</th>\n",
       "      <th>diabetes</th>\n",
       "    </tr>\n",
       "  </thead>\n",
       "  <tbody>\n",
       "    <tr>\n",
       "      <th>95309</th>\n",
       "      <td>1.255536</td>\n",
       "      <td>-0.406552</td>\n",
       "      <td>1.833146</td>\n",
       "      <td>0.532424</td>\n",
       "      <td>3.447327</td>\n",
       "      <td>-0.206268</td>\n",
       "      <td>1.0</td>\n",
       "      <td>0.0</td>\n",
       "      <td>1.0</td>\n",
       "      <td>0.0</td>\n",
       "      <td>0.0</td>\n",
       "      <td>1</td>\n",
       "    </tr>\n",
       "    <tr>\n",
       "      <th>9769</th>\n",
       "      <td>-0.925808</td>\n",
       "      <td>-0.000214</td>\n",
       "      <td>0.249127</td>\n",
       "      <td>0.410208</td>\n",
       "      <td>-0.290080</td>\n",
       "      <td>-0.206268</td>\n",
       "      <td>0.0</td>\n",
       "      <td>1.0</td>\n",
       "      <td>0.0</td>\n",
       "      <td>1.0</td>\n",
       "      <td>0.0</td>\n",
       "      <td>1</td>\n",
       "    </tr>\n",
       "    <tr>\n",
       "      <th>1391</th>\n",
       "      <td>0.365192</td>\n",
       "      <td>-0.839486</td>\n",
       "      <td>0.155949</td>\n",
       "      <td>3.465622</td>\n",
       "      <td>-0.290080</td>\n",
       "      <td>-0.206268</td>\n",
       "      <td>1.0</td>\n",
       "      <td>0.0</td>\n",
       "      <td>0.0</td>\n",
       "      <td>0.0</td>\n",
       "      <td>1.0</td>\n",
       "      <td>1</td>\n",
       "    </tr>\n",
       "    <tr>\n",
       "      <th>7645</th>\n",
       "      <td>-0.124498</td>\n",
       "      <td>-0.897112</td>\n",
       "      <td>0.621837</td>\n",
       "      <td>1.510157</td>\n",
       "      <td>-0.290080</td>\n",
       "      <td>-0.206268</td>\n",
       "      <td>1.0</td>\n",
       "      <td>0.0</td>\n",
       "      <td>0.0</td>\n",
       "      <td>1.0</td>\n",
       "      <td>0.0</td>\n",
       "      <td>1</td>\n",
       "    </tr>\n",
       "    <tr>\n",
       "      <th>35060</th>\n",
       "      <td>-1.281946</td>\n",
       "      <td>-0.765606</td>\n",
       "      <td>0.994547</td>\n",
       "      <td>0.043558</td>\n",
       "      <td>-0.290080</td>\n",
       "      <td>-0.206268</td>\n",
       "      <td>1.0</td>\n",
       "      <td>0.0</td>\n",
       "      <td>0.0</td>\n",
       "      <td>1.0</td>\n",
       "      <td>0.0</td>\n",
       "      <td>1</td>\n",
       "    </tr>\n",
       "  </tbody>\n",
       "</table>\n",
       "</div>"
      ],
      "text/plain": [
       "            age       bmi  HbA1c_level  blood_glucose_level  hypertension  \\\n",
       "95309  1.255536 -0.406552     1.833146             0.532424      3.447327   \n",
       "9769  -0.925808 -0.000214     0.249127             0.410208     -0.290080   \n",
       "1391   0.365192 -0.839486     0.155949             3.465622     -0.290080   \n",
       "7645  -0.124498 -0.897112     0.621837             1.510157     -0.290080   \n",
       "35060 -1.281946 -0.765606     0.994547             0.043558     -0.290080   \n",
       "\n",
       "       heart_disease  gender_Female  gender_Male  smoking_history_current  \\\n",
       "95309      -0.206268            1.0          0.0                      1.0   \n",
       "9769       -0.206268            0.0          1.0                      0.0   \n",
       "1391       -0.206268            1.0          0.0                      0.0   \n",
       "7645       -0.206268            1.0          0.0                      0.0   \n",
       "35060      -0.206268            1.0          0.0                      0.0   \n",
       "\n",
       "       smoking_history_non-smoker  smoking_history_past_smoker  diabetes  \n",
       "95309                         0.0                          0.0         1  \n",
       "9769                          1.0                          0.0         1  \n",
       "1391                          0.0                          1.0         1  \n",
       "7645                          1.0                          0.0         1  \n",
       "35060                         1.0                          0.0         1  "
      ]
     },
     "execution_count": 198,
     "metadata": {},
     "output_type": "execute_result"
    }
   ],
   "source": [
    "df_test = pd.merge(data_loader.X_test, data_loader.y_test, left_index=True, right_index=True)\n",
    "positive_examples = df_test[df_test['diabetes'] == 1]\n",
    "positive_examples.head()"
   ]
  },
  {
   "cell_type": "code",
   "execution_count": 199,
   "metadata": {},
   "outputs": [
    {
     "data": {
      "text/html": [
       "<div>\n",
       "<style scoped>\n",
       "    .dataframe tbody tr th:only-of-type {\n",
       "        vertical-align: middle;\n",
       "    }\n",
       "\n",
       "    .dataframe tbody tr th {\n",
       "        vertical-align: top;\n",
       "    }\n",
       "\n",
       "    .dataframe thead th {\n",
       "        text-align: right;\n",
       "    }\n",
       "</style>\n",
       "<table border=\"1\" class=\"dataframe\">\n",
       "  <thead>\n",
       "    <tr style=\"text-align: right;\">\n",
       "      <th></th>\n",
       "      <th>age</th>\n",
       "      <th>bmi</th>\n",
       "      <th>HbA1c_level</th>\n",
       "      <th>blood_glucose_level</th>\n",
       "      <th>hypertension</th>\n",
       "      <th>heart_disease</th>\n",
       "      <th>gender_Female</th>\n",
       "      <th>gender_Male</th>\n",
       "      <th>smoking_history_current</th>\n",
       "      <th>smoking_history_non-smoker</th>\n",
       "      <th>smoking_history_past_smoker</th>\n",
       "      <th>diabetes</th>\n",
       "    </tr>\n",
       "  </thead>\n",
       "  <tbody>\n",
       "    <tr>\n",
       "      <th>41458</th>\n",
       "      <td>-0.035463</td>\n",
       "      <td>-0.298688</td>\n",
       "      <td>-0.682649</td>\n",
       "      <td>0.507981</td>\n",
       "      <td>-0.29008</td>\n",
       "      <td>-0.206268</td>\n",
       "      <td>1.0</td>\n",
       "      <td>0.0</td>\n",
       "      <td>1.0</td>\n",
       "      <td>0.0</td>\n",
       "      <td>0.0</td>\n",
       "      <td>0</td>\n",
       "    </tr>\n",
       "    <tr>\n",
       "      <th>56059</th>\n",
       "      <td>1.700709</td>\n",
       "      <td>-0.125809</td>\n",
       "      <td>0.621837</td>\n",
       "      <td>-1.300824</td>\n",
       "      <td>-0.29008</td>\n",
       "      <td>-0.206268</td>\n",
       "      <td>0.0</td>\n",
       "      <td>1.0</td>\n",
       "      <td>0.0</td>\n",
       "      <td>1.0</td>\n",
       "      <td>0.0</td>\n",
       "      <td>0</td>\n",
       "    </tr>\n",
       "    <tr>\n",
       "      <th>84971</th>\n",
       "      <td>-0.124498</td>\n",
       "      <td>-0.000214</td>\n",
       "      <td>-0.496294</td>\n",
       "      <td>0.483538</td>\n",
       "      <td>-0.29008</td>\n",
       "      <td>-0.206268</td>\n",
       "      <td>0.0</td>\n",
       "      <td>1.0</td>\n",
       "      <td>0.0</td>\n",
       "      <td>1.0</td>\n",
       "      <td>0.0</td>\n",
       "      <td>0</td>\n",
       "    </tr>\n",
       "    <tr>\n",
       "      <th>767</th>\n",
       "      <td>-1.638084</td>\n",
       "      <td>-1.536908</td>\n",
       "      <td>-0.496294</td>\n",
       "      <td>-0.298648</td>\n",
       "      <td>-0.29008</td>\n",
       "      <td>-0.206268</td>\n",
       "      <td>0.0</td>\n",
       "      <td>1.0</td>\n",
       "      <td>0.0</td>\n",
       "      <td>1.0</td>\n",
       "      <td>0.0</td>\n",
       "      <td>0</td>\n",
       "    </tr>\n",
       "    <tr>\n",
       "      <th>53955</th>\n",
       "      <td>-1.593566</td>\n",
       "      <td>-0.272091</td>\n",
       "      <td>0.155949</td>\n",
       "      <td>-1.178608</td>\n",
       "      <td>-0.29008</td>\n",
       "      <td>-0.206268</td>\n",
       "      <td>0.0</td>\n",
       "      <td>1.0</td>\n",
       "      <td>0.0</td>\n",
       "      <td>1.0</td>\n",
       "      <td>0.0</td>\n",
       "      <td>0</td>\n",
       "    </tr>\n",
       "  </tbody>\n",
       "</table>\n",
       "</div>"
      ],
      "text/plain": [
       "            age       bmi  HbA1c_level  blood_glucose_level  hypertension  \\\n",
       "41458 -0.035463 -0.298688    -0.682649             0.507981      -0.29008   \n",
       "56059  1.700709 -0.125809     0.621837            -1.300824      -0.29008   \n",
       "84971 -0.124498 -0.000214    -0.496294             0.483538      -0.29008   \n",
       "767   -1.638084 -1.536908    -0.496294            -0.298648      -0.29008   \n",
       "53955 -1.593566 -0.272091     0.155949            -1.178608      -0.29008   \n",
       "\n",
       "       heart_disease  gender_Female  gender_Male  smoking_history_current  \\\n",
       "41458      -0.206268            1.0          0.0                      1.0   \n",
       "56059      -0.206268            0.0          1.0                      0.0   \n",
       "84971      -0.206268            0.0          1.0                      0.0   \n",
       "767        -0.206268            0.0          1.0                      0.0   \n",
       "53955      -0.206268            0.0          1.0                      0.0   \n",
       "\n",
       "       smoking_history_non-smoker  smoking_history_past_smoker  diabetes  \n",
       "41458                         0.0                          0.0         0  \n",
       "56059                         1.0                          0.0         0  \n",
       "84971                         1.0                          0.0         0  \n",
       "767                           1.0                          0.0         0  \n",
       "53955                         1.0                          0.0         0  "
      ]
     },
     "execution_count": 199,
     "metadata": {},
     "output_type": "execute_result"
    }
   ],
   "source": [
    "negative_examples = df_test[df_test['diabetes'] == 0]\n",
    "negative_examples.head()"
   ]
  },
  {
   "cell_type": "code",
   "execution_count": 259,
   "metadata": {},
   "outputs": [],
   "source": [
    "from interpret.blackbox import LimeTabular\n",
    "from interpret.blackbox import ShapKernel\n",
    "from interpret import show\n",
    "import numpy as np"
   ]
  },
  {
   "cell_type": "code",
   "execution_count": 246,
   "metadata": {},
   "outputs": [],
   "source": [
    "sample_one = positive_examples[10:11]\n",
    "sample_two = negative_examples[10:11]\n",
    "sample_three = negative_examples[20:21]\n",
    "sample_one_input = sample_one.drop(\"diabetes\", axis=1)\n",
    "sample_two_input = sample_two.drop(\"diabetes\", axis=1)\n",
    "sample_three_input = sample_three.drop(\"diabetes\", axis=1)\n",
    "sample_inputs = [sample_one_input, sample_two_input, sample_three_input]"
   ]
  },
  {
   "cell_type": "code",
   "execution_count": 247,
   "metadata": {},
   "outputs": [
    {
     "data": {
      "text/html": [
       "<div>\n",
       "<style scoped>\n",
       "    .dataframe tbody tr th:only-of-type {\n",
       "        vertical-align: middle;\n",
       "    }\n",
       "\n",
       "    .dataframe tbody tr th {\n",
       "        vertical-align: top;\n",
       "    }\n",
       "\n",
       "    .dataframe thead th {\n",
       "        text-align: right;\n",
       "    }\n",
       "</style>\n",
       "<table border=\"1\" class=\"dataframe\">\n",
       "  <thead>\n",
       "    <tr style=\"text-align: right;\">\n",
       "      <th></th>\n",
       "      <th>age</th>\n",
       "      <th>bmi</th>\n",
       "      <th>HbA1c_level</th>\n",
       "      <th>blood_glucose_level</th>\n",
       "      <th>hypertension</th>\n",
       "      <th>heart_disease</th>\n",
       "      <th>gender_Female</th>\n",
       "      <th>gender_Male</th>\n",
       "      <th>smoking_history_current</th>\n",
       "      <th>smoking_history_non-smoker</th>\n",
       "      <th>smoking_history_past_smoker</th>\n",
       "    </tr>\n",
       "  </thead>\n",
       "  <tbody>\n",
       "    <tr>\n",
       "      <th>90082</th>\n",
       "      <td>1.567157</td>\n",
       "      <td>0.533196</td>\n",
       "      <td>0.528659</td>\n",
       "      <td>0.532424</td>\n",
       "      <td>-0.29008</td>\n",
       "      <td>-0.206268</td>\n",
       "      <td>1.0</td>\n",
       "      <td>0.0</td>\n",
       "      <td>0.0</td>\n",
       "      <td>0.0</td>\n",
       "      <td>1.0</td>\n",
       "    </tr>\n",
       "  </tbody>\n",
       "</table>\n",
       "</div>"
      ],
      "text/plain": [
       "            age       bmi  HbA1c_level  blood_glucose_level  hypertension  \\\n",
       "90082  1.567157  0.533196     0.528659             0.532424      -0.29008   \n",
       "\n",
       "       heart_disease  gender_Female  gender_Male  smoking_history_current  \\\n",
       "90082      -0.206268            1.0          0.0                      0.0   \n",
       "\n",
       "       smoking_history_non-smoker  smoking_history_past_smoker  \n",
       "90082                         0.0                          1.0  "
      ]
     },
     "execution_count": 247,
     "metadata": {},
     "output_type": "execute_result"
    }
   ],
   "source": [
    "sample_one_input"
   ]
  },
  {
   "cell_type": "code",
   "execution_count": 248,
   "metadata": {},
   "outputs": [
    {
     "data": {
      "text/html": [
       "<div>\n",
       "<style scoped>\n",
       "    .dataframe tbody tr th:only-of-type {\n",
       "        vertical-align: middle;\n",
       "    }\n",
       "\n",
       "    .dataframe tbody tr th {\n",
       "        vertical-align: top;\n",
       "    }\n",
       "\n",
       "    .dataframe thead th {\n",
       "        text-align: right;\n",
       "    }\n",
       "</style>\n",
       "<table border=\"1\" class=\"dataframe\">\n",
       "  <thead>\n",
       "    <tr style=\"text-align: right;\">\n",
       "      <th></th>\n",
       "      <th>age</th>\n",
       "      <th>bmi</th>\n",
       "      <th>HbA1c_level</th>\n",
       "      <th>blood_glucose_level</th>\n",
       "      <th>hypertension</th>\n",
       "      <th>heart_disease</th>\n",
       "      <th>gender_Female</th>\n",
       "      <th>gender_Male</th>\n",
       "      <th>smoking_history_current</th>\n",
       "      <th>smoking_history_non-smoker</th>\n",
       "      <th>smoking_history_past_smoker</th>\n",
       "    </tr>\n",
       "  </thead>\n",
       "  <tbody>\n",
       "    <tr>\n",
       "      <th>41291</th>\n",
       "      <td>1.700709</td>\n",
       "      <td>-0.142063</td>\n",
       "      <td>0.435482</td>\n",
       "      <td>0.507981</td>\n",
       "      <td>-0.29008</td>\n",
       "      <td>-0.206268</td>\n",
       "      <td>1.0</td>\n",
       "      <td>0.0</td>\n",
       "      <td>0.0</td>\n",
       "      <td>1.0</td>\n",
       "      <td>0.0</td>\n",
       "    </tr>\n",
       "  </tbody>\n",
       "</table>\n",
       "</div>"
      ],
      "text/plain": [
       "            age       bmi  HbA1c_level  blood_glucose_level  hypertension  \\\n",
       "41291  1.700709 -0.142063     0.435482             0.507981      -0.29008   \n",
       "\n",
       "       heart_disease  gender_Female  gender_Male  smoking_history_current  \\\n",
       "41291      -0.206268            1.0          0.0                      0.0   \n",
       "\n",
       "       smoking_history_non-smoker  smoking_history_past_smoker  \n",
       "41291                         1.0                          0.0  "
      ]
     },
     "execution_count": 248,
     "metadata": {},
     "output_type": "execute_result"
    }
   ],
   "source": [
    "sample_two_input"
   ]
  },
  {
   "cell_type": "code",
   "execution_count": 249,
   "metadata": {},
   "outputs": [
    {
     "data": {
      "text/html": [
       "<div>\n",
       "<style scoped>\n",
       "    .dataframe tbody tr th:only-of-type {\n",
       "        vertical-align: middle;\n",
       "    }\n",
       "\n",
       "    .dataframe tbody tr th {\n",
       "        vertical-align: top;\n",
       "    }\n",
       "\n",
       "    .dataframe thead th {\n",
       "        text-align: right;\n",
       "    }\n",
       "</style>\n",
       "<table border=\"1\" class=\"dataframe\">\n",
       "  <thead>\n",
       "    <tr style=\"text-align: right;\">\n",
       "      <th></th>\n",
       "      <th>age</th>\n",
       "      <th>bmi</th>\n",
       "      <th>HbA1c_level</th>\n",
       "      <th>blood_glucose_level</th>\n",
       "      <th>hypertension</th>\n",
       "      <th>heart_disease</th>\n",
       "      <th>gender_Female</th>\n",
       "      <th>gender_Male</th>\n",
       "      <th>smoking_history_current</th>\n",
       "      <th>smoking_history_non-smoker</th>\n",
       "      <th>smoking_history_past_smoker</th>\n",
       "    </tr>\n",
       "  </thead>\n",
       "  <tbody>\n",
       "    <tr>\n",
       "      <th>19176</th>\n",
       "      <td>-0.07998</td>\n",
       "      <td>-0.731622</td>\n",
       "      <td>0.90137</td>\n",
       "      <td>-1.178608</td>\n",
       "      <td>-0.29008</td>\n",
       "      <td>-0.206268</td>\n",
       "      <td>1.0</td>\n",
       "      <td>0.0</td>\n",
       "      <td>0.0</td>\n",
       "      <td>0.0</td>\n",
       "      <td>1.0</td>\n",
       "    </tr>\n",
       "  </tbody>\n",
       "</table>\n",
       "</div>"
      ],
      "text/plain": [
       "           age       bmi  HbA1c_level  blood_glucose_level  hypertension  \\\n",
       "19176 -0.07998 -0.731622      0.90137            -1.178608      -0.29008   \n",
       "\n",
       "       heart_disease  gender_Female  gender_Male  smoking_history_current  \\\n",
       "19176      -0.206268            1.0          0.0                      0.0   \n",
       "\n",
       "       smoking_history_non-smoker  smoking_history_past_smoker  \n",
       "19176                         0.0                          1.0  "
      ]
     },
     "execution_count": 249,
     "metadata": {},
     "output_type": "execute_result"
    }
   ],
   "source": [
    "sample_three_input"
   ]
  },
  {
   "attachments": {},
   "cell_type": "markdown",
   "metadata": {},
   "source": [
    "Ensemble Model Predictions on each Sample"
   ]
  },
  {
   "cell_type": "code",
   "execution_count": 250,
   "metadata": {},
   "outputs": [
    {
     "data": {
      "text/plain": [
       "1"
      ]
     },
     "execution_count": 250,
     "metadata": {},
     "output_type": "execute_result"
    }
   ],
   "source": [
    "rf_pipeline.predict(sample_one_input)[0] # Correct prediction"
   ]
  },
  {
   "cell_type": "code",
   "execution_count": 251,
   "metadata": {},
   "outputs": [
    {
     "data": {
      "text/plain": [
       "0"
      ]
     },
     "execution_count": 251,
     "metadata": {},
     "output_type": "execute_result"
    }
   ],
   "source": [
    "rf_pipeline.predict(sample_two_input)[0] # Correct prediction"
   ]
  },
  {
   "cell_type": "code",
   "execution_count": 252,
   "metadata": {},
   "outputs": [
    {
     "data": {
      "text/plain": [
       "0"
      ]
     },
     "execution_count": 252,
     "metadata": {},
     "output_type": "execute_result"
    }
   ],
   "source": [
    "rf_pipeline.predict(sample_three_input)[0] # Correct prediction"
   ]
  },
  {
   "attachments": {},
   "cell_type": "markdown",
   "metadata": {},
   "source": [
    "LIME"
   ]
  },
  {
   "cell_type": "code",
   "execution_count": 253,
   "metadata": {},
   "outputs": [],
   "source": [
    "lime = LimeTabular(\n",
    "    model=rf_pipeline,\n",
    "    # predict_fn=rf_pipeline.predict_proba,\n",
    "    data=data_loader.X_train,\n",
    "    random_state=1,\n",
    ")"
   ]
  },
  {
   "cell_type": "code",
   "execution_count": 258,
   "metadata": {},
   "outputs": [
    {
     "data": {
      "text/html": [
       "<!-- http://127.0.0.1:7001/5407572224/ -->\n",
       "<iframe src=\"http://127.0.0.1:7001/5407572224/\" width=100% height=800 frameBorder=\"0\"></iframe>"
      ]
     },
     "metadata": {},
     "output_type": "display_data"
    }
   ],
   "source": [
    "# Get local explanations\n",
    "lime_local = lime.explain_local(\n",
    "    sample_inputs,\n",
    "    [1, 0, 0],\n",
    "    name=\"LIME\",\n",
    ")\n",
    "\n",
    "show(lime_local)"
   ]
  },
  {
   "attachments": {},
   "cell_type": "markdown",
   "metadata": {},
   "source": [
    "SHAP"
   ]
  },
  {
   "cell_type": "code",
   "execution_count": 260,
   "metadata": {},
   "outputs": [],
   "source": [
    "columns = list(\n",
    "            map(lambda x: x[5:], list(data_loader.preprocessor.get_feature_names_out()))\n",
    "        )\n",
    "background_val = pd.DataFrame(\n",
    "            np.median(data_loader.X_train, axis=0).reshape(1, -1), columns=columns\n",
    "        )\n",
    "shap = ShapKernel(rf_pipeline, background_val)"
   ]
  },
  {
   "cell_type": "code",
   "execution_count": 261,
   "metadata": {},
   "outputs": [
    {
     "data": {
      "application/vnd.jupyter.widget-view+json": {
       "model_id": "ea764f83502c448ea6f08835cf3a3ce7",
       "version_major": 2,
       "version_minor": 0
      },
      "text/plain": [
       "  0%|          | 0/3 [00:00<?, ?it/s]"
      ]
     },
     "metadata": {},
     "output_type": "display_data"
    },
    {
     "data": {
      "text/html": [
       "<!-- http://127.0.0.1:7001/5411515600/ -->\n",
       "<iframe src=\"http://127.0.0.1:7001/5411515600/\" width=100% height=800 frameBorder=\"0\"></iframe>"
      ]
     },
     "metadata": {},
     "output_type": "display_data"
    }
   ],
   "source": [
    "shap_local = shap.explain_local(sample_inputs, [1, 0, 0], name=\"SHAP\")\n",
    "show(shap_local)"
   ]
  },
  {
   "attachments": {},
   "cell_type": "markdown",
   "metadata": {},
   "source": [
    "CounterFactual"
   ]
  },
  {
   "cell_type": "code",
   "execution_count": 205,
   "metadata": {},
   "outputs": [],
   "source": [
    "import dice_ml"
   ]
  },
  {
   "cell_type": "code",
   "execution_count": 206,
   "metadata": {},
   "outputs": [],
   "source": [
    "merged_df = pd.merge(data_loader.X, data_loader.y, left_index=True, right_index=True)"
   ]
  },
  {
   "cell_type": "code",
   "execution_count": 208,
   "metadata": {},
   "outputs": [],
   "source": [
    "# Dataset\n",
    "continuous_features = [\n",
    "    \"age\",\n",
    "    \"bmi\",\n",
    "    \"HbA1c_level\",\n",
    "    \"blood_glucose_level\",\n",
    "    \"hypertension\",\n",
    "    \"heart_disease\",\n",
    "]\n",
    "data_dice = dice_ml.Data(\n",
    "    dataframe=merged_df,\n",
    "    continuous_features=continuous_features,\n",
    "    outcome_name=\"diabetes\",\n",
    ")"
   ]
  },
  {
   "cell_type": "code",
   "execution_count": 209,
   "metadata": {},
   "outputs": [],
   "source": [
    "rf_dice = dice_ml.Model(\n",
    "    model=rf_pipeline,\n",
    "    backend=\"sklearn\",\n",
    ")\n",
    "explainer = dice_ml.Dice(\n",
    "    data_dice,\n",
    "    rf_dice,\n",
    "    method=\"random\",\n",
    "    # method=\"genetic\",\n",
    "    # method=\"kdtree\",\n",
    ")"
   ]
  },
  {
   "cell_type": "code",
   "execution_count": 262,
   "metadata": {},
   "outputs": [],
   "source": [
    "inverse_transform_numeric = data_loader.preprocessor.named_transformers_.num.inverse_transform"
   ]
  },
  {
   "cell_type": "code",
   "execution_count": 264,
   "metadata": {},
   "outputs": [],
   "source": [
    "features_to_vary = [\n",
    "    \"age\",\n",
    "    \"bmi\",\n",
    "    \"HbA1c_level\",\n",
    "    \"blood_glucose_level\",\n",
    "    \"hypertension\",\n",
    "    \"heart_disease\",\n",
    "]\n",
    "features_to_vary = continuous_features\n",
    "permitted_range = {\n",
    "    \"age\": [0, 200],\n",
    "    \"bmi\": [10, 40],\n",
    "    \"HbA1c_level\": [3, 9],\n",
    "    \"blood_glucose_level\": [70, 300],\n",
    "    \"hypertension\": [0, 1],\n",
    "    \"heart_disease\": [0, 1],\n",
    "}"
   ]
  },
  {
   "cell_type": "code",
   "execution_count": 265,
   "metadata": {},
   "outputs": [
    {
     "name": "stderr",
     "output_type": "stream",
     "text": [
      "100%|██████████| 1/1 [03:00<00:00, 180.37s/it]"
     ]
    },
    {
     "name": "stdout",
     "output_type": "stream",
     "text": [
      "Query instance (original outcome : 1)\n"
     ]
    },
    {
     "name": "stderr",
     "output_type": "stream",
     "text": [
      "\n"
     ]
    },
    {
     "data": {
      "text/html": [
       "<div>\n",
       "<style scoped>\n",
       "    .dataframe tbody tr th:only-of-type {\n",
       "        vertical-align: middle;\n",
       "    }\n",
       "\n",
       "    .dataframe tbody tr th {\n",
       "        vertical-align: top;\n",
       "    }\n",
       "\n",
       "    .dataframe thead th {\n",
       "        text-align: right;\n",
       "    }\n",
       "</style>\n",
       "<table border=\"1\" class=\"dataframe\">\n",
       "  <thead>\n",
       "    <tr style=\"text-align: right;\">\n",
       "      <th></th>\n",
       "      <th>age</th>\n",
       "      <th>bmi</th>\n",
       "      <th>HbA1c_level</th>\n",
       "      <th>blood_glucose_level</th>\n",
       "      <th>hypertension</th>\n",
       "      <th>heart_disease</th>\n",
       "      <th>gender_Female</th>\n",
       "      <th>gender_Male</th>\n",
       "      <th>smoking_history_current</th>\n",
       "      <th>smoking_history_non-smoker</th>\n",
       "      <th>smoking_history_past_smoker</th>\n",
       "      <th>diabetes</th>\n",
       "    </tr>\n",
       "  </thead>\n",
       "  <tbody>\n",
       "    <tr>\n",
       "      <th>0</th>\n",
       "      <td>1.567157</td>\n",
       "      <td>0.533196</td>\n",
       "      <td>0.528659</td>\n",
       "      <td>0.532424</td>\n",
       "      <td>-0.29008</td>\n",
       "      <td>-0.206268</td>\n",
       "      <td>1.0</td>\n",
       "      <td>0.0</td>\n",
       "      <td>0.0</td>\n",
       "      <td>0.0</td>\n",
       "      <td>1.0</td>\n",
       "      <td>1</td>\n",
       "    </tr>\n",
       "  </tbody>\n",
       "</table>\n",
       "</div>"
      ],
      "text/plain": [
       "        age       bmi  HbA1c_level  blood_glucose_level  hypertension  \\\n",
       "0  1.567157  0.533196     0.528659             0.532424      -0.29008   \n",
       "\n",
       "   heart_disease gender_Female gender_Male smoking_history_current  \\\n",
       "0      -0.206268           1.0         0.0                     0.0   \n",
       "\n",
       "  smoking_history_non-smoker smoking_history_past_smoker  diabetes  \n",
       "0                        0.0                         1.0         1  "
      ]
     },
     "metadata": {},
     "output_type": "display_data"
    },
    {
     "name": "stdout",
     "output_type": "stream",
     "text": [
      "\n",
      "Diverse Counterfactual set (new outcome: 0.0)\n"
     ]
    },
    {
     "data": {
      "text/html": [
       "<div>\n",
       "<style scoped>\n",
       "    .dataframe tbody tr th:only-of-type {\n",
       "        vertical-align: middle;\n",
       "    }\n",
       "\n",
       "    .dataframe tbody tr th {\n",
       "        vertical-align: top;\n",
       "    }\n",
       "\n",
       "    .dataframe thead th {\n",
       "        text-align: right;\n",
       "    }\n",
       "</style>\n",
       "<table border=\"1\" class=\"dataframe\">\n",
       "  <thead>\n",
       "    <tr style=\"text-align: right;\">\n",
       "      <th></th>\n",
       "      <th>age</th>\n",
       "      <th>bmi</th>\n",
       "      <th>HbA1c_level</th>\n",
       "      <th>blood_glucose_level</th>\n",
       "      <th>hypertension</th>\n",
       "      <th>heart_disease</th>\n",
       "      <th>gender_Female</th>\n",
       "      <th>gender_Male</th>\n",
       "      <th>smoking_history_current</th>\n",
       "      <th>smoking_history_non-smoker</th>\n",
       "      <th>smoking_history_past_smoker</th>\n",
       "      <th>diabetes</th>\n",
       "    </tr>\n",
       "  </thead>\n",
       "  <tbody>\n",
       "    <tr>\n",
       "      <th>0</th>\n",
       "      <td>0.718785</td>\n",
       "      <td>0.533195846511487</td>\n",
       "      <td>0.5286594290458336</td>\n",
       "      <td>0.5324243186915422</td>\n",
       "      <td>-0.2910798169502588</td>\n",
       "      <td>-0.2063680286605339</td>\n",
       "      <td>1.0</td>\n",
       "      <td>0.0</td>\n",
       "      <td>0.0</td>\n",
       "      <td>0.0</td>\n",
       "      <td>1.0</td>\n",
       "      <td>0.0</td>\n",
       "    </tr>\n",
       "  </tbody>\n",
       "</table>\n",
       "</div>"
      ],
      "text/plain": [
       "        age                bmi         HbA1c_level blood_glucose_level  \\\n",
       "0  0.718785  0.533195846511487  0.5286594290458336  0.5324243186915422   \n",
       "\n",
       "          hypertension        heart_disease gender_Female gender_Male  \\\n",
       "0  -0.2910798169502588  -0.2063680286605339           1.0         0.0   \n",
       "\n",
       "  smoking_history_current smoking_history_non-smoker  \\\n",
       "0                     0.0                        0.0   \n",
       "\n",
       "  smoking_history_past_smoker diabetes  \n",
       "0                         1.0      0.0  "
      ]
     },
     "metadata": {},
     "output_type": "display_data"
    }
   ],
   "source": [
    "# Now generating explanations using the new feature weights\n",
    "cf = explainer.generate_counterfactuals(\n",
    "    sample_one_input,\n",
    "    total_CFs=1,\n",
    "    desired_class=\"opposite\",\n",
    "    permitted_range=permitted_range,\n",
    "    features_to_vary=features_to_vary,\n",
    ")\n",
    "\n",
    "# Visualize it\n",
    "output = cf.visualize_as_dataframe(show_only_changes=True)\n",
    "output"
   ]
  },
  {
   "cell_type": "code",
   "execution_count": 274,
   "metadata": {},
   "outputs": [
    {
     "data": {
      "text/html": [
       "<div>\n",
       "<style scoped>\n",
       "    .dataframe tbody tr th:only-of-type {\n",
       "        vertical-align: middle;\n",
       "    }\n",
       "\n",
       "    .dataframe tbody tr th {\n",
       "        vertical-align: top;\n",
       "    }\n",
       "\n",
       "    .dataframe thead th {\n",
       "        text-align: right;\n",
       "    }\n",
       "</style>\n",
       "<table border=\"1\" class=\"dataframe\">\n",
       "  <thead>\n",
       "    <tr style=\"text-align: right;\">\n",
       "      <th></th>\n",
       "      <th>age</th>\n",
       "      <th>bmi</th>\n",
       "      <th>HbA1c_level</th>\n",
       "      <th>blood_glucose_level</th>\n",
       "      <th>hypertension</th>\n",
       "      <th>heart_disease</th>\n",
       "    </tr>\n",
       "  </thead>\n",
       "  <tbody>\n",
       "    <tr>\n",
       "      <th>0</th>\n",
       "      <td>-19.057163</td>\n",
       "      <td>0.0</td>\n",
       "      <td>0.0</td>\n",
       "      <td>0.0</td>\n",
       "      <td>0.0</td>\n",
       "      <td>0.0</td>\n",
       "    </tr>\n",
       "  </tbody>\n",
       "</table>\n",
       "</div>"
      ],
      "text/plain": [
       "         age  bmi  HbA1c_level  blood_glucose_level  hypertension  \\\n",
       "0 -19.057163  0.0          0.0                  0.0           0.0   \n",
       "\n",
       "   heart_disease  \n",
       "0            0.0  "
      ]
     },
     "execution_count": 274,
     "metadata": {},
     "output_type": "execute_result"
    }
   ],
   "source": [
    "res = cf.cf_examples_list[0].final_cfs_df[continuous_features]\n",
    "v1 = inverse_transform_numeric(sample_one_input[continuous_features])\n",
    "v2 = inverse_transform_numeric(res)\n",
    "changes_required = pd.DataFrame(data=v2-v1, columns=[\n",
    "    \"age\",\n",
    "    \"bmi\",\n",
    "    \"HbA1c_level\",\n",
    "    \"blood_glucose_level\",\n",
    "    \"hypertension\",\n",
    "    \"heart_disease\",\n",
    "])\n",
    "changes_required"
   ]
  },
  {
   "attachments": {},
   "cell_type": "markdown",
   "metadata": {},
   "source": [
    "According to this analysis reducing the Age by 19 years would result in a non-diabetic prediction"
   ]
  }
 ],
 "metadata": {
  "kernelspec": {
   "display_name": "Python 3",
   "language": "python",
   "name": "python3"
  },
  "language_info": {
   "codemirror_mode": {
    "name": "ipython",
    "version": 3
   },
   "file_extension": ".py",
   "mimetype": "text/x-python",
   "name": "python",
   "nbconvert_exporter": "python",
   "pygments_lexer": "ipython3",
   "version": "3.9.4"
  },
  "orig_nbformat": 4
 },
 "nbformat": 4,
 "nbformat_minor": 2
}
